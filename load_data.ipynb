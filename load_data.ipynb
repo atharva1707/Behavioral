{
  "nbformat": 4,
  "nbformat_minor": 0,
  "metadata": {
    "colab": {
      "provenance": []
    },
    "kernelspec": {
      "name": "python3",
      "display_name": "Python 3"
    },
    "language_info": {
      "name": "python"
    }
  },
  "cells": [
    {
      "cell_type": "code",
      "execution_count": 7,
      "metadata": {
        "id": "heKxxownvmi7"
      },
      "outputs": [],
      "source": [
        "import pandas as pd\n",
        "import csv"
      ]
    },
    {
      "cell_type": "code",
      "source": [
        "# function to load data of single subject into a list of dataentries\n",
        "def load_subject_data(filename):\n",
        "\n",
        "    df = pd.read_csv(filename, sep='\\t')\n",
        "\n",
        "    image_freq = {}\n",
        "    # Iterate through each row in the DataFrame\n",
        "    for index, row in df.iterrows():\n",
        "      _73kid = row['73KID']  # Access the value in the \"_73kid\" column\n",
        "\n",
        "      if _73kid not in image_freq:\n",
        "        image_freq[_73kid] = 1\n",
        "      else:\n",
        "        image_freq[_73kid] += 1\n",
        "\n",
        "      # Add a new column named \"freq\" to the DataFrame\n",
        "      df.loc[index, 'freq'] = image_freq[_73kid]\n",
        "\n",
        "\n",
        "    return df"
      ],
      "metadata": {
        "id": "ewrm3F8sv5Nw"
      },
      "execution_count": 22,
      "outputs": []
    },
    {
      "cell_type": "code",
      "source": [
        "#  function to load data to all 8 subjects and return as a list of 8 data\n",
        "def load_all_data():\n",
        "    data1 = load_subject_data('/content/subj1.tsv')\n",
        "    data2 = load_subject_data('subj2.tsv')\n",
        "    data3 = load_subject_data('subj3.tsv')\n",
        "    data4 = load_subject_data('subj4.tsv')\n",
        "    data5 = load_subject_data('subj5.tsv')\n",
        "    data6 = load_subject_data('subj6.tsv')\n",
        "    data7 = load_subject_data('subj7.tsv')\n",
        "    data8 = load_subject_data('subj8.tsv')\n",
        "\n",
        "    df_merged = pd.concat([data1, data2, data3, data4, data5, data6, data7, data8])\n",
        "    return df_merged"
      ],
      "metadata": {
        "id": "NVK_39Rav7ws"
      },
      "execution_count": 20,
      "outputs": []
    }
  ]
}