{
  "cells": [
    {
      "cell_type": "code",
      "execution_count": 2,
      "metadata": {
        "id": "heKxxownvmi7"
      },
      "outputs": [],
      "source": [
        "import pandas as pd\n",
        "import csv"
      ]
    },
    {
      "cell_type": "code",
      "execution_count": 6,
      "metadata": {
        "id": "ewrm3F8sv5Nw"
      },
      "outputs": [],
      "source": [
        "# function to load data of single subject into a list of dataentries\n",
        "def load_subject_data(filename):\n",
        "\n",
        "    df = pd.read_csv(filename, sep='\\t')\n",
        "    current_run = None\n",
        "    run_index = 0\n",
        "\n",
        "    current_session = None\n",
        "    session_index = 0\n",
        "\n",
        "    session_run_index = 0\n",
        "\n",
        "    image_freq = {}\n",
        "    # Iterate through each row in the DataFrame\n",
        "    for index, row in df.iterrows():\n",
        "      _73kid = row['73KID']  # Access the value in the \"_73kid\" column\n",
        "\n",
        "      if current_session != row['SESSION']:\n",
        "        current_session = row['SESSION']\n",
        "        session_index = 0\n",
        "        session_run_index = 0\n",
        "\n",
        "      if current_run != row['RUN']:\n",
        "        current_run = row['RUN']\n",
        "        run_index = 0\n",
        "        session_run_index += 1\n",
        "\n",
        "\n",
        "      run_index += 1\n",
        "      df.at[index, 'RunIndex'] = run_index\n",
        "\n",
        "      session_index += 1\n",
        "      df.at[index, 'SessionIndex'] = session_index\n",
        "      df.at[index, 'SessionRunIndex'] = session_run_index\n",
        "\n",
        "\n",
        "      if _73kid not in image_freq:\n",
        "        image_freq[_73kid] = 1\n",
        "      else:\n",
        "        image_freq[_73kid] += 1\n",
        "\n",
        "      # Add a new column named \"freq\" to the DataFrame\n",
        "      df.loc[index, 'freq'] = image_freq[_73kid]\n",
        "\n",
        "    df=df.fillna(-1)\n",
        "    return df"
      ]
    },
    {
      "cell_type": "code",
      "execution_count": 4,
      "metadata": {
        "id": "NVK_39Rav7ws"
      },
      "outputs": [],
      "source": [
        "#  function to load data to all 8 subjects and return as a list of 8 data\n",
        "def load_all_data():\n",
        "    data1 = load_subject_data('/content/Behavioral/input/subj1.tsv')\n",
        "    data2 = load_subject_data('/content/Behavioral/input/subj2.tsv')\n",
        "    data3 = load_subject_data('/content/Behavioral/input/subj3.tsv')\n",
        "    data4 = load_subject_data('/content/Behavioral/input/subj4.tsv')\n",
        "    data5 = load_subject_data('/content/Behavioral/input/subj5.tsv')\n",
        "    data6 = load_subject_data('/content/Behavioral/input/subj6.tsv')\n",
        "    data7 = load_subject_data('/content/Behavioral/input/subj7.tsv')\n",
        "    data8 = load_subject_data('/content/Behavioral/input/subj8.tsv')\n",
        "\n",
        "    data = [data1, data2, data3, data4, data5, data6, data7, data8]\n",
        "    return data"
      ]
    }
  ],
  "metadata": {
    "colab": {
      "provenance": []
    },
    "kernelspec": {
      "display_name": "Python 3",
      "name": "python3"
    },
    "language_info": {
      "name": "python"
    }
  },
  "nbformat": 4,
  "nbformat_minor": 0
}