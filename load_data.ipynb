{
  "cells": [
    {
      "cell_type": "code",
      "execution_count": 2,
      "metadata": {
        "id": "heKxxownvmi7"
      },
      "outputs": [],
      "source": [
        "import pandas as pd\n",
        "import csv"
      ]
    },
    {
      "cell_type": "code",
      "source": [
        "!git clone https://github.com/atharva1707/Behavioral.git"
      ],
      "metadata": {
        "colab": {
          "base_uri": "https://localhost:8080/"
        },
        "id": "0FvivigDFnAG",
        "outputId": "1020548d-1b90-4e37-9eeb-183be0f9bbcf"
      },
      "execution_count": 3,
      "outputs": [
        {
          "output_type": "stream",
          "name": "stdout",
          "text": [
            "Cloning into 'Behavioral'...\n",
            "remote: Enumerating objects: 60, done.\u001b[K\n",
            "remote: Counting objects: 100% (60/60), done.\u001b[K\n",
            "remote: Compressing objects: 100% (57/57), done.\u001b[K\n",
            "remote: Total 60 (delta 25), reused 0 (delta 0), pack-reused 0 (from 0)\u001b[K\n",
            "Receiving objects: 100% (60/60), 7.30 MiB | 6.60 MiB/s, done.\n",
            "Resolving deltas: 100% (25/25), done.\n"
          ]
        }
      ]
    },
    {
      "cell_type": "code",
      "execution_count": 6,
      "metadata": {
        "id": "ewrm3F8sv5Nw"
      },
      "outputs": [],
      "source": [
        "# function to load data of single subject into a list of dataentries\n",
        "def load_subject_data(filename):\n",
        "\n",
        "    df = pd.read_csv(filename, sep='\\t')\n",
        "    current_run = None\n",
        "    run_index = 0\n",
        "\n",
        "    current_session = None\n",
        "    session_index = 0\n",
        "\n",
        "    session_run_index = 0\n",
        "\n",
        "    image_freq = {}\n",
        "    # Iterate through each row in the DataFrame\n",
        "    for index, row in df.iterrows():\n",
        "      _73kid = row['73KID']  # Access the value in the \"_73kid\" column\n",
        "\n",
        "      if current_session != row['SESSION']:\n",
        "        current_session = row['SESSION']\n",
        "        session_index = 0\n",
        "        session_run_index = 0\n",
        "\n",
        "      if current_run != row['RUN']:\n",
        "        current_run = row['RUN']\n",
        "        run_index = 0\n",
        "        session_run_index += 1\n",
        "\n",
        "\n",
        "      run_index += 1\n",
        "      df.at[index, 'RunIndex'] = run_index\n",
        "\n",
        "      session_index += 1\n",
        "      df.at[index, 'SessionIndex'] = session_index\n",
        "      df.at[index, 'SessionRunIndex'] = session_run_index\n",
        "\n",
        "\n",
        "      if _73kid not in image_freq:\n",
        "        image_freq[_73kid] = 1\n",
        "      else:\n",
        "        image_freq[_73kid] += 1\n",
        "\n",
        "      # Add a new column named \"freq\" to the DataFrame\n",
        "      df.loc[index, 'freq'] = image_freq[_73kid]\n",
        "\n",
        "    df=df.fillna(-1)\n",
        "    return df"
      ]
    },
    {
      "cell_type": "code",
      "execution_count": 4,
      "metadata": {
        "id": "NVK_39Rav7ws"
      },
      "outputs": [],
      "source": [
        "#  function to load data to all 8 subjects and return as a list of 8 data\n",
        "def load_all_data():\n",
        "    data1 = load_subject_data('/content/Behavioral/input/subj1.tsv')\n",
        "    data2 = load_subject_data('/content/Behavioral/input/subj2.tsv')\n",
        "    data3 = load_subject_data('/content/Behavioral/input/subj3.tsv')\n",
        "    data4 = load_subject_data('/content/Behavioral/input/subj4.tsv')\n",
        "    data5 = load_subject_data('/content/Behavioral/input/subj5.tsv')\n",
        "    data6 = load_subject_data('/content/Behavioral/input/subj6.tsv')\n",
        "    data7 = load_subject_data('/content/Behavioral/input/subj7.tsv')\n",
        "    data8 = load_subject_data('/content/Behavioral/input/subj8.tsv')\n",
        "\n",
        "    data = [data1, data2, data3, data4, data5, data6, data7, data8]\n",
        "    return data"
      ]
    },
    {
      "cell_type": "code",
      "source": [
        "data = load_all_data()\n",
        "print(data[0])"
      ],
      "metadata": {
        "colab": {
          "base_uri": "https://localhost:8080/"
        },
        "id": "9BZjwhyUFsDY",
        "outputId": "cde8910f-f308-47cc-85bf-96fb251a6ff9"
      },
      "execution_count": 7,
      "outputs": [
        {
          "output_type": "stream",
          "name": "stdout",
          "text": [
            "       SUBJECT  SESSION  RUN  TRIAL  73KID  10KID        TIME  ISOLD  \\\n",
            "0            1        1    1      1  46003    626    0.505082      0   \n",
            "1            1        1    1      2  61883   5013    0.505128      0   \n",
            "2            1        1    1      3    829   4850    0.505175      0   \n",
            "3            1        1    1      4  67574   8823    0.505221      0   \n",
            "4            1        1    1      5  16021   9538    0.505267      0   \n",
            "...        ...      ...  ...    ...    ...    ...         ...    ...   \n",
            "29995        1       40   12     58  13774   8984  262.629551      1   \n",
            "29996        1       40   12     59  66768   6026  262.629597      1   \n",
            "29997        1       40   12     60  53168   4841  262.629644      1   \n",
            "29998        1       40   12     61   1944   7323  262.629690      1   \n",
            "29999        1       40   12     62   5034   9972  262.629736      1   \n",
            "\n",
            "       ISCORRECT           RT  ...  ISOLDCURRENT  ISCORRECTCURRENT  TOTAL1  \\\n",
            "0            1.0   803.529781  ...             0               1.0       1   \n",
            "1            1.0   972.261383  ...             0               1.0       1   \n",
            "2            1.0   742.351236  ...             0               1.0       1   \n",
            "3            1.0   747.518479  ...             0               1.0       1   \n",
            "4            1.0   547.422774  ...             0               1.0       1   \n",
            "...          ...          ...  ...           ...               ...     ...   \n",
            "29995        0.0  1275.300175  ...             0               1.0       1   \n",
            "29996        1.0   661.379768  ...             1               1.0       0   \n",
            "29997        1.0   786.811781  ...             0               0.0       0   \n",
            "29998        1.0   502.626801  ...             1               1.0       0   \n",
            "29999        0.0   883.122362  ...             0               1.0       1   \n",
            "\n",
            "       TOTAL2  BUTTON  MISSINGDATA  RunIndex  SessionIndex  SessionRunIndex  \\\n",
            "0           0     1.0            0       1.0           1.0              1.0   \n",
            "1           0     1.0            0       2.0           2.0              1.0   \n",
            "2           0     1.0            0       3.0           3.0              1.0   \n",
            "3           0     1.0            0       4.0           4.0              1.0   \n",
            "4           0     1.0            0       5.0           5.0              1.0   \n",
            "...       ...     ...          ...       ...           ...              ...   \n",
            "29995       0     1.0            0      58.0         746.0             12.0   \n",
            "29996       1     2.0            0      59.0         747.0             12.0   \n",
            "29997       1     2.0            0      60.0         748.0             12.0   \n",
            "29998       1     2.0            0      61.0         749.0             12.0   \n",
            "29999       0     1.0            0      62.0         750.0             12.0   \n",
            "\n",
            "       freq  \n",
            "0       1.0  \n",
            "1       1.0  \n",
            "2       1.0  \n",
            "3       1.0  \n",
            "4       1.0  \n",
            "...     ...  \n",
            "29995   3.0  \n",
            "29996   3.0  \n",
            "29997   3.0  \n",
            "29998   3.0  \n",
            "29999   3.0  \n",
            "\n",
            "[30000 rows x 23 columns]\n"
          ]
        }
      ]
    }
  ],
  "metadata": {
    "colab": {
      "provenance": []
    },
    "kernelspec": {
      "display_name": "Python 3",
      "name": "python3"
    },
    "language_info": {
      "name": "python"
    }
  },
  "nbformat": 4,
  "nbformat_minor": 0
}